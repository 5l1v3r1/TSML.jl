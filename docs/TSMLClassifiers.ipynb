{
 "cells": [
  {
   "cell_type": "code",
   "execution_count": 1,
   "metadata": {},
   "outputs": [],
   "source": [
    "using TSML, TSMLextra, Plots"
   ]
  },
  {
   "cell_type": "code",
   "execution_count": 2,
   "metadata": {},
   "outputs": [
    {
     "ename": "UndefVarError",
     "evalue": "UndefVarError: TSClassifier not defined",
     "output_type": "error",
     "traceback": [
      "UndefVarError: TSClassifier not defined",
      "",
      "Stacktrace:",
      " [1] top-level scope at In[2]:1"
     ]
    }
   ],
   "source": [
    "using TSML: TSClassifier\n",
    "Random.seed!(12)\n",
    "\n",
    "trdirname = joinpath(dirname(pathof(TSML)),\"../data/realdatatsclassification/training\")\n",
    "tstdirname = joinpath(dirname(pathof(TSML)),\"../data/realdatatsclassification/testing\")\n",
    "modeldirname = joinpath(dirname(pathof(TSML)),\"../data/realdatatsclassification/model\")\n",
    "\n",
    "tscl = TSClassifier(Dict(:trdirectory=>trdirname,\n",
    "           :tstdirectory=>tstdirname,\n",
    "           :modeldirectory=>modeldirname,\n",
    "           :feature_range => 6:20,\n",
    "           :num_trees=>10)\n",
    ")\n",
    "\n",
    "fit!(tscl)\n",
    "dfresults = transform!(tscl)"
   ]
  },
  {
   "cell_type": "code",
   "execution_count": 3,
   "metadata": {},
   "outputs": [
    {
     "name": "stdout",
     "output_type": "stream",
     "text": [
      "\u001b[32m\u001b[1m    Status\u001b[22m\u001b[39m `~/julia/TSML.jl/docs/Project.toml`\n",
      " \u001b[90m [336ed68f]\u001b[39m\u001b[37m CSV v0.5.5\u001b[39m\n",
      " \u001b[90m [a93c6f00]\u001b[39m\u001b[37m DataFrames v0.18.2\u001b[39m\n",
      " \u001b[90m [e30172f5]\u001b[39m\u001b[37m Documenter v0.22.4\u001b[39m\n",
      " \u001b[90m [35a29f4d]\u001b[39m\u001b[37m DocumenterTools v0.1.0\u001b[39m\n",
      " \u001b[90m [23fbe1c1]\u001b[39m\u001b[37m Latexify v0.8.2\u001b[39m\n",
      " \u001b[90m [198dc43e]\u001b[39m\u001b[37m TSML v2.3.0\u001b[39m\n",
      " \u001b[90m [ade2ca70]\u001b[39m\u001b[37m Dates \u001b[39m\n",
      " \u001b[90m [9a3f8284]\u001b[39m\u001b[37m Random \u001b[39m\n"
     ]
    }
   ],
   "source": []
  },
  {
   "cell_type": "code",
   "execution_count": null,
   "metadata": {},
   "outputs": [],
   "source": []
  }
 ],
 "metadata": {
  "kernelspec": {
   "display_name": "JuliaTSML",
   "language": "julia",
   "name": "juliatsml"
  },
  "language_info": {
   "file_extension": ".jl",
   "mimetype": "application/julia",
   "name": "julia",
   "version": "1.1.1"
  }
 },
 "nbformat": 4,
 "nbformat_minor": 2
}
