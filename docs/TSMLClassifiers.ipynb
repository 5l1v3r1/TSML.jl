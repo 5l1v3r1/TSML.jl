{
 "cells": [
  {
   "cell_type": "markdown",
   "metadata": {
    "slideshow": {
     "slide_type": "slide"
    }
   },
   "source": [
    "# Time Series Classification Demo"
   ]
  },
  {
   "cell_type": "markdown",
   "metadata": {
    "slideshow": {
     "slide_type": "slide"
    }
   },
   "source": [
    "## Let's add workers for parallel processing"
   ]
  },
  {
   "cell_type": "code",
   "execution_count": 23,
   "metadata": {
    "slideshow": {
     "slide_type": "subslide"
    }
   },
   "outputs": [
    {
     "data": {
      "text/plain": [
       "8"
      ]
     },
     "execution_count": 23,
     "metadata": {},
     "output_type": "execute_result"
    }
   ],
   "source": [
    "using Distributed\n",
    "nprocs()==1 && addprocs()\n",
    "nworkers()"
   ]
  },
  {
   "cell_type": "markdown",
   "metadata": {
    "slideshow": {
     "slide_type": "slide"
    }
   },
   "source": [
    "## Load TSML Modules and other Dependencies"
   ]
  },
  {
   "cell_type": "code",
   "execution_count": 24,
   "metadata": {
    "slideshow": {
     "slide_type": "subslide"
    }
   },
   "outputs": [],
   "source": [
    "@everywhere using TSML, TSMLextra, Plots\n",
    "@everywhere using TSML.TSMLTypes\n",
    "@everywhere using TSML: TSClassifier\n",
    "@everywhere using TSML.TSClassifiers.FileStats\n",
    "@everywhere using TSML.TSMLTransformers\n",
    "@everywhere using TSML.EnsembleMethods\n",
    "@everywhere using TSML.DecisionTreeLearners\n",
    "@everywhere using TSML.Utils\n",
    "@everywhere using TSMLextra.CaretLearners\n",
    "@everywhere using TSMLextra.SKLearners\n",
    "@everywhere using TSML.MLBaseWrapper\n",
    "\n",
    "@everywhere using DataFrames\n",
    "@everywhere using Random\n",
    "@everywhere using Statistics\n",
    "@everywhere using StatsBase: iqr\n",
    "@everywhere using RDatasets\n",
    "ENV[\"COLUMNS\"]=1000; # for dataframe column size"
   ]
  },
  {
   "cell_type": "markdown",
   "metadata": {
    "slideshow": {
     "slide_type": "slide"
    }
   },
   "source": [
    "## Initialize ML models from Julia, Caret, and Scikitlearn"
   ]
  },
  {
   "cell_type": "code",
   "execution_count": 25,
   "metadata": {
    "slideshow": {
     "slide_type": "subslide"
    }
   },
   "outputs": [],
   "source": [
    "# Caret ML\n",
    "@everywhere caret_svmlinear = CaretLearner(Dict(:learner=>\"svmLinear\"))\n",
    "@everywhere caret_treebag = CaretLearner(Dict(:learner=>\"treebag\"))\n",
    "@everywhere caret_rpart = CaretLearner(Dict(:learner=>\"rpart\"))\n",
    "@everywhere caret_rf = CaretLearner(Dict(:learner=>\"rf\"))\n",
    "\n",
    "# ScikitLearn ML\n",
    "@everywhere sk_ridge = SKLearner(Dict(:learner=>\"RidgeClassifier\"))\n",
    "@everywhere sk_sgd = SKLearner(Dict(:learner=>\"SGDClassifier\"))\n",
    "@everywhere sk_knn = SKLearner(Dict(:learner=>\"KNeighborsClassifier\"))\n",
    "@everywhere sk_gb = SKLearner(Dict(:learner=>\"GradientBoostingClassifier\",:impl_args=>Dict(:n_estimators=>10)))\n",
    "@everywhere sk_extratree = SKLearner(Dict(:learner=>\"ExtraTreesClassifier\",:impl_args=>Dict(:n_estimators=>10)))\n",
    "@everywhere sk_rf = SKLearner(Dict(:learner=>\"RandomForestClassifier\",:impl_args=>Dict(:n_estimators=>10)))\n",
    "\n",
    "# Julia ML\n",
    "@everywhere jrf = RandomForest(Dict(:impl_args=>Dict(:num_trees=>300)))\n",
    "@everywhere jpt = PrunedTree()\n",
    "@everywhere jada = Adaboost()\n",
    "\n",
    "# Julia Ensembles\n",
    "@everywhere jvote_ens=VoteEnsemble(Dict(:learners=>[jrf,jpt,sk_gb,sk_extratree,sk_rf]))\n",
    "@everywhere jstack_ens=StackEnsemble(Dict(:learners=>[jrf,jpt,sk_gb,sk_extratree,sk_rf]))\n",
    "@everywhere jbest_ens=BestLearner(Dict(:learners=>[jrf,sk_gb,sk_rf]))\n",
    "@everywhere jsuper_ens=VoteEnsemble(Dict(:learners=>[jvote_ens,jstack_ens,jbest_ens,sk_rf,sk_gb]))"
   ]
  },
  {
   "cell_type": "markdown",
   "metadata": {
    "slideshow": {
     "slide_type": "slide"
    }
   },
   "source": [
    "## Functions for feature extraction and prediction"
   ]
  },
  {
   "cell_type": "code",
   "execution_count": 26,
   "metadata": {
    "slideshow": {
     "slide_type": "subslide"
    }
   },
   "outputs": [],
   "source": [
    "@everywhere function predict(learner,data,train_ind,test_ind)\n",
    "    features = convert(Matrix,data[:, 1:(end-1)])\n",
    "    labels = convert(Array,data[:, end])\n",
    "    # Create pipeline\n",
    "     pipeline = Pipeline(\n",
    "       Dict(\n",
    "         :transformers => [\n",
    "           OneHotEncoder(), # Encodes nominal features into numeric\n",
    "           Imputer(), # Imputes NA values\n",
    "           StandardScaler(),\n",
    "           learner # Predicts labels on instances\n",
    "         ]\n",
    "       )\n",
    "     )\n",
    "     # Train\n",
    "     fit!(pipeline, features[train_ind, :], labels[train_ind]);\n",
    "     # Predict\n",
    "     predictions = transform!(pipeline, features[test_ind, :]);\n",
    "     # Assess predictions\n",
    "     result = score(:accuracy, labels[test_ind], predictions)\n",
    "     return result\n",
    "end"
   ]
  },
  {
   "cell_type": "markdown",
   "metadata": {
    "slideshow": {
     "slide_type": "slide"
    }
   },
   "source": [
    "## Data processing and feature extraction"
   ]
  },
  {
   "cell_type": "code",
   "execution_count": 27,
   "metadata": {
    "slideshow": {
     "slide_type": "subslide"
    }
   },
   "outputs": [
    {
     "name": "stdout",
     "output_type": "stream",
     "text": [
      "*** Extracting features ***\n",
      "getting stats of AirOffTemp1.csv\n",
      "getting stats of AirOffTemp2.csv\n",
      "getting stats of AirOffTemp3.csv\n",
      "getting stats of AirOffTemp4.csv\n",
      "getting stats of AirOffTemp5.csv\n",
      "getting stats of Energy1.csv\n",
      "getting stats of Energy2.csv\n",
      "getting stats of Energy3.csv\n",
      "getting stats of Energy4.csv\n",
      "getting stats of Energy5.csv\n",
      "getting stats of Pressure1.csv\n",
      "getting stats of Pressure3.csv\n",
      "getting stats of Pressure4.csv\n",
      "getting stats of Pressure5.csv\n",
      "getting stats of Pressure6.csv\n",
      "getting stats of RetTemp11.csv\n",
      "getting stats of RetTemp21.csv\n",
      "getting stats of RetTemp31.csv\n",
      "getting stats of RetTemp41.csv\n",
      "getting stats of RetTemp51.csv\n"
     ]
    },
    {
     "data": {
      "text/html": [
       "<table class=\"data-frame\"><thead><tr><th></th><th>sfreq</th><th>count</th><th>max</th><th>min</th><th>median</th><th>mean</th><th>q1</th><th>q2</th><th>q25</th><th>q75</th><th>q8</th><th>q9</th><th>kurtosis</th><th>skewness</th><th>variation</th><th>entropy</th><th>autocor</th><th>pacf</th><th>dtype</th></tr><tr><th></th><th>Float64</th><th>Int64</th><th>Float64</th><th>Float64</th><th>Float64</th><th>Float64</th><th>Float64</th><th>Float64</th><th>Float64</th><th>Float64</th><th>Float64</th><th>Float64</th><th>Float64</th><th>Float64</th><th>Float64</th><th>Float64</th><th>Float64</th><th>Float64</th><th>String</th></tr></thead><tbody><p>5 rows × 19 columns</p><tr><th>1</th><td>0.998658</td><td>745</td><td>8.9</td><td>3.1</td><td>4.7</td><td>5.22651</td><td>4.0</td><td>4.2</td><td>4.3</td><td>6.2</td><td>6.5</td><td>7.2</td><td>-0.503619</td><td>0.743989</td><td>0.248423</td><td>-6554.49</td><td>2.88221</td><td>1.18164</td><td>AirOffTemp</td></tr><tr><th>2</th><td>0.998658</td><td>745</td><td>5.2</td><td>2.0</td><td>2.8</td><td>2.9794</td><td>2.6</td><td>2.7</td><td>2.7</td><td>3.2</td><td>3.2</td><td>3.7</td><td>1.32258</td><td>1.00464</td><td>0.14924</td><td>-2447.02</td><td>1.80057</td><td>0.921901</td><td>AirOffTemp</td></tr><tr><th>3</th><td>0.998658</td><td>745</td><td>2.0</td><td>0.2</td><td>0.95</td><td>0.895235</td><td>0.4</td><td>0.5</td><td>0.5</td><td>1.1</td><td>1.3</td><td>1.4</td><td>-0.849288</td><td>0.0579184</td><td>0.433059</td><td>6.90205</td><td>0.213072</td><td>0.213816</td><td>AirOffTemp</td></tr><tr><th>4</th><td>0.998658</td><td>745</td><td>6.0</td><td>2.15</td><td>3.2</td><td>3.38745</td><td>2.7</td><td>2.7</td><td>3.0</td><td>3.7</td><td>3.7</td><td>4.2</td><td>1.24161</td><td>0.984734</td><td>0.196541</td><td>-3125.67</td><td>1.44612</td><td>0.679828</td><td>AirOffTemp</td></tr><tr><th>5</th><td>0.998658</td><td>745</td><td>9.0</td><td>3.7</td><td>5.7</td><td>6.00215</td><td>4.7</td><td>5.0</td><td>5.2</td><td>7.0</td><td>7.4</td><td>7.9</td><td>-0.757307</td><td>0.594082</td><td>0.200445</td><td>-8101.0</td><td>2.47319</td><td>1.11812</td><td>AirOffTemp</td></tr></tbody></table>"
      ],
      "text/latex": [
       "\\begin{tabular}{r|ccccccccccccccccccc}\n",
       "\t& sfreq & count & max & min & median & mean & q1 & q2 & q25 & q75 & q8 & q9 & kurtosis & skewness & variation & entropy & autocor & pacf & dtype\\\\\n",
       "\t\\hline\n",
       "\t& Float64 & Int64 & Float64 & Float64 & Float64 & Float64 & Float64 & Float64 & Float64 & Float64 & Float64 & Float64 & Float64 & Float64 & Float64 & Float64 & Float64 & Float64 & String\\\\\n",
       "\t\\hline\n",
       "\t1 & 0.998658 & 745 & 8.9 & 3.1 & 4.7 & 5.22651 & 4.0 & 4.2 & 4.3 & 6.2 & 6.5 & 7.2 & -0.503619 & 0.743989 & 0.248423 & -6554.49 & 2.88221 & 1.18164 & AirOffTemp \\\\\n",
       "\t2 & 0.998658 & 745 & 5.2 & 2.0 & 2.8 & 2.9794 & 2.6 & 2.7 & 2.7 & 3.2 & 3.2 & 3.7 & 1.32258 & 1.00464 & 0.14924 & -2447.02 & 1.80057 & 0.921901 & AirOffTemp \\\\\n",
       "\t3 & 0.998658 & 745 & 2.0 & 0.2 & 0.95 & 0.895235 & 0.4 & 0.5 & 0.5 & 1.1 & 1.3 & 1.4 & -0.849288 & 0.0579184 & 0.433059 & 6.90205 & 0.213072 & 0.213816 & AirOffTemp \\\\\n",
       "\t4 & 0.998658 & 745 & 6.0 & 2.15 & 3.2 & 3.38745 & 2.7 & 2.7 & 3.0 & 3.7 & 3.7 & 4.2 & 1.24161 & 0.984734 & 0.196541 & -3125.67 & 1.44612 & 0.679828 & AirOffTemp \\\\\n",
       "\t5 & 0.998658 & 745 & 9.0 & 3.7 & 5.7 & 6.00215 & 4.7 & 5.0 & 5.2 & 7.0 & 7.4 & 7.9 & -0.757307 & 0.594082 & 0.200445 & -8101.0 & 2.47319 & 1.11812 & AirOffTemp \\\\\n",
       "\\end{tabular}\n"
      ],
      "text/plain": [
       "5×19 DataFrame\n",
       "│ Row │ sfreq    │ count │ max     │ min     │ median  │ mean     │ q1      │ q2      │ q25     │ q75     │ q8      │ q9      │ kurtosis  │ skewness  │ variation │ entropy  │ autocor  │ pacf     │ dtype      │\n",
       "│     │ \u001b[90mFloat64\u001b[39m  │ \u001b[90mInt64\u001b[39m │ \u001b[90mFloat64\u001b[39m │ \u001b[90mFloat64\u001b[39m │ \u001b[90mFloat64\u001b[39m │ \u001b[90mFloat64\u001b[39m  │ \u001b[90mFloat64\u001b[39m │ \u001b[90mFloat64\u001b[39m │ \u001b[90mFloat64\u001b[39m │ \u001b[90mFloat64\u001b[39m │ \u001b[90mFloat64\u001b[39m │ \u001b[90mFloat64\u001b[39m │ \u001b[90mFloat64\u001b[39m   │ \u001b[90mFloat64\u001b[39m   │ \u001b[90mFloat64\u001b[39m   │ \u001b[90mFloat64\u001b[39m  │ \u001b[90mFloat64\u001b[39m  │ \u001b[90mFloat64\u001b[39m  │ \u001b[90mString\u001b[39m     │\n",
       "├─────┼──────────┼───────┼─────────┼─────────┼─────────┼──────────┼─────────┼─────────┼─────────┼─────────┼─────────┼─────────┼───────────┼───────────┼───────────┼──────────┼──────────┼──────────┼────────────┤\n",
       "│ 1   │ 0.998658 │ 745   │ 8.9     │ 3.1     │ 4.7     │ 5.22651  │ 4.0     │ 4.2     │ 4.3     │ 6.2     │ 6.5     │ 7.2     │ -0.503619 │ 0.743989  │ 0.248423  │ -6554.49 │ 2.88221  │ 1.18164  │ AirOffTemp │\n",
       "│ 2   │ 0.998658 │ 745   │ 5.2     │ 2.0     │ 2.8     │ 2.9794   │ 2.6     │ 2.7     │ 2.7     │ 3.2     │ 3.2     │ 3.7     │ 1.32258   │ 1.00464   │ 0.14924   │ -2447.02 │ 1.80057  │ 0.921901 │ AirOffTemp │\n",
       "│ 3   │ 0.998658 │ 745   │ 2.0     │ 0.2     │ 0.95    │ 0.895235 │ 0.4     │ 0.5     │ 0.5     │ 1.1     │ 1.3     │ 1.4     │ -0.849288 │ 0.0579184 │ 0.433059  │ 6.90205  │ 0.213072 │ 0.213816 │ AirOffTemp │\n",
       "│ 4   │ 0.998658 │ 745   │ 6.0     │ 2.15    │ 3.2     │ 3.38745  │ 2.7     │ 2.7     │ 3.0     │ 3.7     │ 3.7     │ 4.2     │ 1.24161   │ 0.984734  │ 0.196541  │ -3125.67 │ 1.44612  │ 0.679828 │ AirOffTemp │\n",
       "│ 5   │ 0.998658 │ 745   │ 9.0     │ 3.7     │ 5.7     │ 6.00215  │ 4.7     │ 5.0     │ 5.2     │ 7.0     │ 7.4     │ 7.9     │ -0.757307 │ 0.594082  │ 0.200445  │ -8101.0  │ 2.47319  │ 1.11812  │ AirOffTemp │"
      ]
     },
     "execution_count": 27,
     "metadata": {},
     "output_type": "execute_result"
    }
   ],
   "source": [
    "@everywhere function extract_features_from_timeseries(datadir)\n",
    "  println(\"*** Extracting features ***\")\n",
    "  mdata = getstats(datadir)\n",
    "  mdata[!,:dtype] = mdata[!,:dtype] |> Array{String}\n",
    "  return mdata[!,3:(end-1)]\n",
    "end\n",
    "\n",
    "datadir = joinpath(\"data/\")\n",
    "tsdata = extract_features_from_timeseries(datadir)\n",
    "first(tsdata,5)"
   ]
  },
  {
   "cell_type": "markdown",
   "metadata": {
    "slideshow": {
     "slide_type": "slide"
    }
   },
   "source": [
    "## Run in parallel all models in different trials"
   ]
  },
  {
   "cell_type": "code",
   "execution_count": 28,
   "metadata": {
    "slideshow": {
     "slide_type": "subslide"
    }
   },
   "outputs": [
    {
     "data": {
      "text/plain": [
       "parallelmodel (generic function with 1 method)"
      ]
     },
     "execution_count": 28,
     "metadata": {},
     "output_type": "execute_result"
    }
   ],
   "source": [
    "function parallelmodel(learners::Dict,data::DataFrame;trials=5)\n",
    "    models=collect(keys(learners))\n",
    "    ctable=@distributed (vcat) for i=1:trials\n",
    "        # Split into training and test sets\n",
    "        Random.seed!(3i)\n",
    "        (train_ind, test_ind) = holdout(size(data, 1), 0.20)\n",
    "        acc=@distributed (vcat) for model in models\n",
    "            res=predict(learners[model],data,train_ind,test_ind)\n",
    "            println(\"trial \",i,\", \",model,\" => \",round(res))\n",
    "            [model res i]\n",
    "        end\n",
    "        acc\n",
    "    end\n",
    "    df = ctable |> DataFrame\n",
    "    rename!(df,:x1=>:model,:x2=>:acc,:x3=>:trial)\n",
    "    gp=by(df,:model) do x\n",
    "       DataFrame(mean=mean(x.acc),std=std(x.acc),n=length(x.acc)) \n",
    "    end\n",
    "    sort!(gp,:mean,rev=true)\n",
    "    return gp\n",
    "end"
   ]
  },
  {
   "cell_type": "code",
   "execution_count": 29,
   "metadata": {
    "slideshow": {
     "slide_type": "subslide"
    }
   },
   "outputs": [
    {
     "name": "stdout",
     "output_type": "stream",
     "text": [
      "      From worker 3:\ttrial 1, skl_extratree => 100.0\n",
      "      From worker 2:\ttrial 3, skl_extratree => 100.0\n",
      "      From worker 5:\ttrial 3, skl_gb => 50.0\n",
      "      From worker 5:\ttrial 3, jada => 50.0\n",
      "      From worker 5:\ttrial 2, skl_gb => 75.0\n",
      "      From worker 5:\ttrial 2, jada => 50.0\n",
      "      From worker 5:\ttrial 1, skl_gb => 75.0\n",
      "      From worker 5:\ttrial 1, jada => 25.0\n",
      "      From worker 9:\ttrial 3, skl_knn => 50.0\n",
      "      From worker 9:\ttrial 2, skl_knn => 75.0\n",
      "      From worker 9:\ttrial 1, skl_knn => 75.0\n",
      "      From worker 8:\ttrial 3, sk_rf => 50.0\n",
      "      From worker 8:\ttrial 2, sk_rf => 75.0\n",
      "      From worker 8:\ttrial 1, sk_rf => 75.0\n",
      "      From worker 4:\ttrial 3, jrf => 25.0\n",
      "      From worker 2:\ttrial 3, crt_treebag => 50.0\n",
      "      From worker 2:\ttrial 2, skl_extratree => 100.0\n",
      "      From worker 3:\ttrial 1, crt_treebag => 100.0\n",
      "      From worker 3:\ttrial 2, jrf => 100.0\n",
      "      From worker 6:\ttrial 3, crt_svmlinear => 75.0\n",
      "      From worker 6:\ttrial 2, crt_svmlinear => 75.0\n",
      "      From worker 6:\ttrial 1, crt_svmlinear => 100.0\n",
      "      From worker 2:\ttrial 2, crt_treebag => 100.0\n",
      "      From worker 2:\ttrial 1, jrf => 75.0\n",
      "      From worker 3:\ttrial 3, jstack_ens => 0.0\n",
      "      From worker 4:\ttrial 2, jstack_ens => 50.0\n",
      "      From worker 4:\ttrial 1, jstack_ens => 0.0\n",
      "      From worker 3:\ttrial 3, jvote_ens => 75.0\n",
      "      From worker 4:\ttrial 2, jvote_ens => 100.0\n",
      "      From worker 4:\ttrial 1, jvote_ens => 75.0\n",
      "      From worker 2:\ttrial 1, jbest_ens => 100.0\n",
      "      From worker 3:\ttrial 2, jbest_ens => 100.0\n",
      "      From worker 4:\ttrial 3, jbest_ens => 25.0\n",
      "      From worker 7:\ttrial 2, jsuper_ens => 100.0\n",
      "      From worker 7:\ttrial 3, jsuper_ens => 25.0\n",
      "      From worker 7:\ttrial 1, jsuper_ens => 100.0\n"
     ]
    },
    {
     "data": {
      "text/html": [
       "<table class=\"data-frame\"><thead><tr><th></th><th>model</th><th>mean</th><th>std</th><th>n</th></tr><tr><th></th><th>Any</th><th>Float64</th><th>Float64</th><th>Int64</th></tr></thead><tbody><p>12 rows × 4 columns</p><tr><th>1</th><td>skl_extratree</td><td>100.0</td><td>0.0</td><td>3</td></tr><tr><th>2</th><td>crt_treebag</td><td>83.3333</td><td>28.8675</td><td>3</td></tr><tr><th>3</th><td>jvote_ens</td><td>83.3333</td><td>14.4338</td><td>3</td></tr><tr><th>4</th><td>crt_svmlinear</td><td>83.3333</td><td>14.4338</td><td>3</td></tr><tr><th>5</th><td>jbest_ens</td><td>75.0</td><td>43.3013</td><td>3</td></tr><tr><th>6</th><td>jsuper_ens</td><td>75.0</td><td>43.3013</td><td>3</td></tr><tr><th>7</th><td>jrf</td><td>66.6667</td><td>38.1881</td><td>3</td></tr><tr><th>8</th><td>skl_gb</td><td>66.6667</td><td>14.4338</td><td>3</td></tr><tr><th>9</th><td>sk_rf</td><td>66.6667</td><td>14.4338</td><td>3</td></tr><tr><th>10</th><td>skl_knn</td><td>66.6667</td><td>14.4338</td><td>3</td></tr><tr><th>11</th><td>jada</td><td>41.6667</td><td>14.4338</td><td>3</td></tr><tr><th>12</th><td>jstack_ens</td><td>16.6667</td><td>28.8675</td><td>3</td></tr></tbody></table>"
      ],
      "text/latex": [
       "\\begin{tabular}{r|cccc}\n",
       "\t& model & mean & std & n\\\\\n",
       "\t\\hline\n",
       "\t& Any & Float64 & Float64 & Int64\\\\\n",
       "\t\\hline\n",
       "\t1 & skl\\_extratree & 100.0 & 0.0 & 3 \\\\\n",
       "\t2 & crt\\_treebag & 83.3333 & 28.8675 & 3 \\\\\n",
       "\t3 & jvote\\_ens & 83.3333 & 14.4338 & 3 \\\\\n",
       "\t4 & crt\\_svmlinear & 83.3333 & 14.4338 & 3 \\\\\n",
       "\t5 & jbest\\_ens & 75.0 & 43.3013 & 3 \\\\\n",
       "\t6 & jsuper\\_ens & 75.0 & 43.3013 & 3 \\\\\n",
       "\t7 & jrf & 66.6667 & 38.1881 & 3 \\\\\n",
       "\t8 & skl\\_gb & 66.6667 & 14.4338 & 3 \\\\\n",
       "\t9 & sk\\_rf & 66.6667 & 14.4338 & 3 \\\\\n",
       "\t10 & skl\\_knn & 66.6667 & 14.4338 & 3 \\\\\n",
       "\t11 & jada & 41.6667 & 14.4338 & 3 \\\\\n",
       "\t12 & jstack\\_ens & 16.6667 & 28.8675 & 3 \\\\\n",
       "\\end{tabular}\n"
      ],
      "text/plain": [
       "12×4 DataFrame\n",
       "│ Row │ model         │ mean    │ std     │ n     │\n",
       "│     │ \u001b[90mAny\u001b[39m           │ \u001b[90mFloat64\u001b[39m │ \u001b[90mFloat64\u001b[39m │ \u001b[90mInt64\u001b[39m │\n",
       "├─────┼───────────────┼─────────┼─────────┼───────┤\n",
       "│ 1   │ skl_extratree │ 100.0   │ 0.0     │ 3     │\n",
       "│ 2   │ crt_treebag   │ 83.3333 │ 28.8675 │ 3     │\n",
       "│ 3   │ jvote_ens     │ 83.3333 │ 14.4338 │ 3     │\n",
       "│ 4   │ crt_svmlinear │ 83.3333 │ 14.4338 │ 3     │\n",
       "│ 5   │ jbest_ens     │ 75.0    │ 43.3013 │ 3     │\n",
       "│ 6   │ jsuper_ens    │ 75.0    │ 43.3013 │ 3     │\n",
       "│ 7   │ jrf           │ 66.6667 │ 38.1881 │ 3     │\n",
       "│ 8   │ skl_gb        │ 66.6667 │ 14.4338 │ 3     │\n",
       "│ 9   │ sk_rf         │ 66.6667 │ 14.4338 │ 3     │\n",
       "│ 10  │ skl_knn       │ 66.6667 │ 14.4338 │ 3     │\n",
       "│ 11  │ jada          │ 41.6667 │ 14.4338 │ 3     │\n",
       "│ 12  │ jstack_ens    │ 16.6667 │ 28.8675 │ 3     │"
      ]
     },
     "execution_count": 29,
     "metadata": {},
     "output_type": "execute_result"
    }
   ],
   "source": [
    "learners=Dict(\n",
    "      :jvote_ens=>jvote_ens,:jstack_ens=>jstack_ens,:jbest_ens=>jbest_ens,\n",
    "      :jrf => jrf,:jada=>jada,:jsuper_ens=>jsuper_ens,#:crt_rpart=>caret_rpart,\n",
    "      :crt_svmlinear=>caret_svmlinear,:crt_treebag=>caret_treebag,#:crt_rf=>caret_rf, \n",
    "      :skl_knn=>sk_knn,:skl_gb=>sk_gb,:skl_extratree=>sk_extratree,\n",
    "      :sk_rf => sk_rf\n",
    ");\n",
    "\n",
    "df = parallelmodel(learners,tsdata;trials=3)"
   ]
  },
  {
   "cell_type": "code",
   "execution_count": null,
   "metadata": {},
   "outputs": [],
   "source": []
  }
 ],
 "metadata": {
  "@webio": {
   "lastCommId": null,
   "lastKernelId": null
  },
  "celltoolbar": "Slideshow",
  "kernelspec": {
   "display_name": "JuliaTSML",
   "language": "julia",
   "name": "juliatsml"
  },
  "language_info": {
   "file_extension": ".jl",
   "mimetype": "application/julia",
   "name": "julia",
   "version": "1.1.1"
  }
 },
 "nbformat": 4,
 "nbformat_minor": 2
}
